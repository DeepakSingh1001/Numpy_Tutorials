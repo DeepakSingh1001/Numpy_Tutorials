{
 "cells": [
  {
   "cell_type": "code",
   "execution_count": 2,
   "id": "416432ac-aaf2-44ae-94bf-e62ade2e9c1d",
   "metadata": {},
   "outputs": [],
   "source": [
    "import numpy as np"
   ]
  },
  {
   "cell_type": "markdown",
   "id": "caf515f7-3906-4f49-b909-e2ac801c5b32",
   "metadata": {},
   "source": [
    "## 1.Understand ndarray (creation, shape, dtype, ndim, itemsize)\n",
    "\n",
    "- Creation attributes(creation):- array(), zeroes(), ones(), arange(), linspace(),eye()\n",
    "- Structural attributes: .shape(), .dtype(), .size(), .ndim(), .itemsize()\n",
    "- Type conversion attribute: .astype(), .view()\n",
    "- Attributes of random module: .rand(), .randn(), .randint(), .choice()\n",
    "\n"
   ]
  },
  {
   "cell_type": "code",
   "execution_count": 3,
   "id": "626e3635-221c-4261-aebd-94105d014e96",
   "metadata": {},
   "outputs": [
    {
     "data": {
      "text/plain": [
       "array([1, 2, 3, 4, 5])"
      ]
     },
     "execution_count": 3,
     "metadata": {},
     "output_type": "execute_result"
    }
   ],
   "source": [
    "# Creation attributes:- array(), zeroes(), ones(), arange(), linspace(),eye()\n",
    "a1 = np.array([1,2,3,4,5])\n",
    "a1"
   ]
  },
  {
   "cell_type": "code",
   "execution_count": 4,
   "id": "133e2eca-67b4-407a-8e2b-e7e29dae05c7",
   "metadata": {},
   "outputs": [
    {
     "data": {
      "text/plain": [
       "array([[0., 0.],\n",
       "       [0., 0.]])"
      ]
     },
     "execution_count": 4,
     "metadata": {},
     "output_type": "execute_result"
    }
   ],
   "source": [
    "a2 = np.zeros((2,2))\n",
    "a2"
   ]
  },
  {
   "cell_type": "code",
   "execution_count": 5,
   "id": "e2818129-9565-4f9c-b4d6-ab2550d91c3b",
   "metadata": {},
   "outputs": [
    {
     "data": {
      "text/plain": [
       "array([[1., 1., 1., 1.],\n",
       "       [1., 1., 1., 1.],\n",
       "       [1., 1., 1., 1.]])"
      ]
     },
     "execution_count": 5,
     "metadata": {},
     "output_type": "execute_result"
    }
   ],
   "source": [
    "a3 = np.ones((3,4))\n",
    "a3"
   ]
  },
  {
   "cell_type": "code",
   "execution_count": 15,
   "id": "8c192e80-c34e-4f3e-8f9f-f9b0e8940daa",
   "metadata": {},
   "outputs": [
    {
     "data": {
      "text/plain": [
       "array([ 0,  1,  2,  3,  4,  5,  6,  7,  8,  9, 10, 11])"
      ]
     },
     "execution_count": 15,
     "metadata": {},
     "output_type": "execute_result"
    }
   ],
   "source": [
    "a4 = np.arange(12)\n",
    "a4"
   ]
  },
  {
   "cell_type": "code",
   "execution_count": 16,
   "id": "69714e28-0184-4562-bdca-9834af8eeeda",
   "metadata": {},
   "outputs": [
    {
     "data": {
      "text/plain": [
       "array([ 1,  3,  5,  7, 10])"
      ]
     },
     "execution_count": 16,
     "metadata": {},
     "output_type": "execute_result"
    }
   ],
   "source": [
    "a5 = np.linspace(1,10,5,dtype=int)\n",
    "a5"
   ]
  },
  {
   "cell_type": "code",
   "execution_count": 17,
   "id": "c5f72b5b-53f4-4adb-9bbb-b37b8f7fa54f",
   "metadata": {},
   "outputs": [
    {
     "data": {
      "text/plain": [
       "array([[1., 0., 0., 0.],\n",
       "       [0., 1., 0., 0.],\n",
       "       [0., 0., 1., 0.],\n",
       "       [0., 0., 0., 1.]])"
      ]
     },
     "execution_count": 17,
     "metadata": {},
     "output_type": "execute_result"
    }
   ],
   "source": [
    "a6 = np.eye(4)\n",
    "a6"
   ]
  },
  {
   "cell_type": "code",
   "execution_count": 18,
   "id": "70c75413-c926-4d3a-a93b-50783ba989d7",
   "metadata": {},
   "outputs": [
    {
     "data": {
      "text/plain": [
       "array([[0., 1., 1., 1., 1.],\n",
       "       [1., 0., 1., 1., 1.],\n",
       "       [1., 1., 0., 1., 1.],\n",
       "       [1., 1., 1., 0., 1.],\n",
       "       [1., 1., 1., 1., 0.]])"
      ]
     },
     "execution_count": 18,
     "metadata": {},
     "output_type": "execute_result"
    }
   ],
   "source": [
    "a = np.ones((5,5))\n",
    "np.fill_diagonal(a,0)\n",
    "a"
   ]
  },
  {
   "cell_type": "code",
   "execution_count": 20,
   "id": "3623eebf-8717-4ee8-808b-9e20ca4752ee",
   "metadata": {},
   "outputs": [
    {
     "data": {
      "text/plain": [
       "dtype('int16')"
      ]
     },
     "execution_count": 20,
     "metadata": {},
     "output_type": "execute_result"
    }
   ],
   "source": [
    "# Structural attributes: .shape(), .dtype(), .size(), .ndim(), .itemsize()\n",
    "a1.shape\n",
    "a2.shape\n",
    "a6.shape\n",
    "# ------------\n",
    "a1.dtype\n",
    "a6.dtype\n",
    "# ---------\n",
    "a6.size\n",
    "a5.size\n",
    "# ------------\n",
    "a4.ndim\n",
    "a6.ndim\n",
    "# --------------\n",
    "a1.itemsize\n",
    "\n",
    "a = np.ones((2,2),dtype=np.int32)\n",
    "a.itemsize\n",
    "\n",
    "asi = np.ones((2,2),dtype=np.int16)\n",
    "asi.itemsize\n",
    "asi.dtype"
   ]
  },
  {
   "cell_type": "code",
   "execution_count": 23,
   "id": "6c198e0d-775a-4f02-88b4-622f383db723",
   "metadata": {},
   "outputs": [
    {
     "name": "stdout",
     "output_type": "stream",
     "text": [
      "int64\n",
      "int16\n"
     ]
    },
    {
     "data": {
      "text/plain": [
       "array([1, 2, 3, 4, 5])"
      ]
     },
     "execution_count": 23,
     "metadata": {},
     "output_type": "execute_result"
    }
   ],
   "source": [
    "# Type conversion attribute: .astype(), .view()\n",
    "\n",
    "# print(a1.dtype)\n",
    "# print(a1.astype(np.int16).dtype)\n",
    "# print(a1.dtype)\n",
    "# ----------------------\n",
    "print(a1.dtype)\n",
    "v = a1.view(dtype=np.int16)\n",
    "v.astype(np.int16)\n",
    "print(v.dtype)\n",
    "\n",
    "w = a1.view()\n",
    "w"
   ]
  },
  {
   "cell_type": "code",
   "execution_count": 26,
   "id": "88b6a5c1-8c95-4a26-86eb-7d1c565f4237",
   "metadata": {},
   "outputs": [
    {
     "name": "stdout",
     "output_type": "stream",
     "text": [
      "0.695722475840365\n",
      "[[0.27622767 0.83570127 0.56771365 0.39032767 0.03894538 0.70968346\n",
      "  0.85540308 0.68497809 0.89122843 0.4692285 ]]\n"
     ]
    }
   ],
   "source": [
    "# Attributes of random module: .rand(), .randn(), .randint(), .choice()\n",
    "# random.rand() function returns Array of defined shape, filled with random values.\n",
    "a = np.random.rand()\n",
    "print(a)\n",
    "\n",
    "b = np.random.rand(1,10)\n",
    "print(b)\n",
    "\n",
    "# c = np.random.rand()"
   ]
  },
  {
   "cell_type": "code",
   "execution_count": 28,
   "id": "4f1c0145-6c9a-4e7c-859f-ccc2b8039316",
   "metadata": {},
   "outputs": [
    {
     "data": {
      "text/plain": [
       "array([[-0.91175863, -0.39893139,  1.65476735],\n",
       "       [-1.05225033,  1.2977678 ,  0.97647106]])"
      ]
     },
     "execution_count": 28,
     "metadata": {},
     "output_type": "execute_result"
    }
   ],
   "source": [
    "# The numpy.random.randn() function creates an array of specified shape and fills \n",
    "# it with random values as per standard normal distribution.\n",
    "a = np.random.randn()\n",
    "a\n",
    "\n",
    "b = np.random.randn(2,3)\n",
    "b"
   ]
  },
  {
   "cell_type": "code",
   "execution_count": 30,
   "id": "adb9bcfa-b7c4-4fcc-9e37-ade63b700935",
   "metadata": {},
   "outputs": [
    {
     "data": {
      "text/plain": [
       "array([6, 2])"
      ]
     },
     "execution_count": 30,
     "metadata": {},
     "output_type": "execute_result"
    }
   ],
   "source": [
    "# The numpy.random.randint() function is used to generate random integers \n",
    "# within a specified range. It can return a single random integer or an array of random integers. \n",
    "\n",
    "a = np.random.randint(1,7,2)\n",
    "a"
   ]
  },
  {
   "cell_type": "code",
   "execution_count": 35,
   "id": "58902be7-fc66-4d7b-810e-8e4e3b1cc785",
   "metadata": {},
   "outputs": [
    {
     "name": "stdout",
     "output_type": "stream",
     "text": [
      "[ 1  2  3  4  5  6  7  8  9 10 11 12]\n",
      "[ 8 11]\n"
     ]
    },
    {
     "data": {
      "text/plain": [
       "array([4, 1])"
      ]
     },
     "execution_count": 35,
     "metadata": {},
     "output_type": "execute_result"
    }
   ],
   "source": [
    "\n",
    "a = np.arange(1,13)\n",
    "print(a)\n",
    "b = np.random.choice(a,2)\n",
    "print(b)\n",
    "\n",
    "c = np.random.choice(a,2,replace=False)\n",
    "c"
   ]
  },
  {
   "cell_type": "markdown",
   "id": "6165f712-2d5b-4548-b27a-b92c1e16614b",
   "metadata": {},
   "source": [
    "# 2. Indexing, Slicing, and Masking\n",
    "- Indexing and Slicing:- (nD) slicing and indexing, Boolean indexing,fancy indexing\n",
    "- Masking:- combining masks (&,|,~)\n",
    "- Accessing and manipulating subset of numpy array uIndexing and Slicing:- (nD) slicing and indexing, Boolean indexing,fancy indexingsing indexing and slicing\n"
   ]
  },
  {
   "cell_type": "code",
   "execution_count": null,
   "id": "f42df9fa-14ce-4a6e-ab1d-62dd0dded4cf",
   "metadata": {},
   "outputs": [],
   "source": [
    "# Indexing and Slicing:- (nD) slicing and indexing, Boolean indexing,fancy indexing\n",
    "a = np.arange(0,9)\n",
    "print(a)\n",
    "a[0]\n",
    "a[1]\n",
    "\n",
    "a[1]+a[2]\n",
    "\n",
    "a[-2:]"
   ]
  },
  {
   "cell_type": "code",
   "execution_count": 39,
   "id": "992dc1f2-b775-4bf8-a148-2abef5ab9d61",
   "metadata": {},
   "outputs": [
    {
     "name": "stdout",
     "output_type": "stream",
     "text": [
      "[[ 1  2  3  4  5]\n",
      " [ 6  7  8  9 10]]\n",
      "10\n"
     ]
    }
   ],
   "source": [
    "# Access 2D Array\n",
    "a = np.array([[1,2,3,4,5], [6,7,8,9,10]])\n",
    "print(a)\n",
    "\n",
    "print(a[0, 1])\n",
    "print(a[1, 4])"
   ]
  },
  {
   "cell_type": "code",
   "execution_count": null,
   "id": "1a4463a0-a45a-458f-968a-0b0c378537cd",
   "metadata": {},
   "outputs": [],
   "source": [
    "# Access 3D array\n",
    "a = np.array([[[1, 2, 3], [4, 5, 6]], [[7, 8, 9], [10, 11, 12]]])\n",
    "a[0,1,2]\n",
    "\n",
    "a[0,1,-1]"
   ]
  },
  {
   "cell_type": "code",
   "execution_count": null,
   "id": "facd36ac-c475-48cb-9249-a113c9799c63",
   "metadata": {},
   "outputs": [],
   "source": [
    "# ============Tutorial============#"
   ]
  },
  {
   "cell_type": "code",
   "execution_count": null,
   "id": "8e3f5af1-51c0-4774-bd15-e7cca8c1d13e",
   "metadata": {},
   "outputs": [],
   "source": [
    "a1 = np.arange(10,dtype=np.int32)\n",
    "a2 = np.arange(12, dtype=float).reshape(3,4)\n",
    "a3 = np.arange(8).reshape(2,2,2)"
   ]
  },
  {
   "cell_type": "code",
   "execution_count": null,
   "id": "46a48595-76bd-487b-b482-dfeaee7f960b",
   "metadata": {},
   "outputs": [],
   "source": [
    "# ndim \n",
    "a1.ndim\n",
    "a2.ndim\n",
    "a3.ndim"
   ]
  },
  {
   "cell_type": "code",
   "execution_count": null,
   "id": "f11fe691-acff-4585-9791-6009257b0f0f",
   "metadata": {},
   "outputs": [],
   "source": [
    "# shape\n",
    "a1.shape\n",
    "a2.shape\n",
    "a3.shape"
   ]
  },
  {
   "cell_type": "code",
   "execution_count": null,
   "id": "4d0b84b3-a84f-490f-9ca5-8c8d908b2dd4",
   "metadata": {},
   "outputs": [],
   "source": [
    "# size\n",
    "a1.size\n",
    "a2.size\n",
    "a3.size"
   ]
  },
  {
   "cell_type": "code",
   "execution_count": null,
   "id": "ad337cad-0d7e-46f4-a8bc-c50fa7ac9600",
   "metadata": {},
   "outputs": [],
   "source": [
    "# itemsize\n",
    "print(a1.itemsize)\n",
    "print(a2.itemsize)\n",
    "print(a3.itemsize)"
   ]
  },
  {
   "cell_type": "code",
   "execution_count": null,
   "id": "9f95b1a5-fba7-4933-b3b0-0a4535a264e8",
   "metadata": {},
   "outputs": [],
   "source": [
    "# dtype\n",
    "print(a1.dtype)\n",
    "print(a2.dtype)\n",
    "print(a3.dtype)"
   ]
  },
  {
   "cell_type": "code",
   "execution_count": null,
   "id": "3a4f8654-ed4d-40d6-a2ee-ee864fec418e",
   "metadata": {},
   "outputs": [],
   "source": [
    "# changing data type\n",
    "a3.dtype\n",
    "a3.astype(np.int32)"
   ]
  },
  {
   "cell_type": "code",
   "execution_count": null,
   "id": "75430547-965a-451f-aa5e-8b3df5d2e998",
   "metadata": {},
   "outputs": [],
   "source": [
    "# Array Operation\n",
    "a1 = np.arange(12).reshape(3,4)\n",
    "a2 = np.arange(12,24).reshape(3,4)\n",
    "a1\n",
    "a2"
   ]
  },
  {
   "cell_type": "code",
   "execution_count": null,
   "id": "e6786794-e50e-4a41-9330-4217af7c75c5",
   "metadata": {},
   "outputs": [],
   "source": [
    "# scalar operation\n",
    "a1*2\n",
    "\n",
    "a1-2\n",
    "\n",
    "a1+2\n",
    "\n",
    "a1/2\n",
    "\n",
    "a1**2"
   ]
  },
  {
   "cell_type": "code",
   "execution_count": null,
   "id": "24421285-6a2a-43c7-a219-03b8ebbd943e",
   "metadata": {},
   "outputs": [],
   "source": [
    "# relational \n",
    "a2>5\n",
    "a2>25\n",
    "\n",
    "a2 == 5\n",
    "\n",
    "a2!=10"
   ]
  },
  {
   "cell_type": "code",
   "execution_count": null,
   "id": "2d369c11-05f8-40f3-ace4-4375149764cf",
   "metadata": {},
   "outputs": [],
   "source": [
    "# Vector Operation\n",
    "a1 + a2"
   ]
  },
  {
   "cell_type": "code",
   "execution_count": null,
   "id": "cbcd3bd5-d75c-4995-a505-e06fb92328e2",
   "metadata": {},
   "outputs": [],
   "source": [
    "a1-a2"
   ]
  },
  {
   "cell_type": "code",
   "execution_count": null,
   "id": "11cb34f3-0b40-4824-8ea4-5fb7c698c90d",
   "metadata": {},
   "outputs": [],
   "source": [
    "a1*a2"
   ]
  },
  {
   "cell_type": "code",
   "execution_count": null,
   "id": "dc0e1629-9da7-4f6c-a1ae-ba79977e3335",
   "metadata": {},
   "outputs": [],
   "source": [
    "a1/a2"
   ]
  },
  {
   "cell_type": "code",
   "execution_count": null,
   "id": "2d18695b-45a2-401b-a716-83d86e98f8f4",
   "metadata": {},
   "outputs": [],
   "source": [
    "a1"
   ]
  },
  {
   "cell_type": "code",
   "execution_count": null,
   "id": "8a33716e-a093-45f4-b28d-d22e56792aff",
   "metadata": {},
   "outputs": [],
   "source": [
    "# max/min/sum/prod\n",
    "np.max(a1)"
   ]
  },
  {
   "cell_type": "code",
   "execution_count": null,
   "id": "2f0a3579-3fa6-489e-a48e-3ad071b32aed",
   "metadata": {},
   "outputs": [],
   "source": [
    "np.min(a1)"
   ]
  },
  {
   "cell_type": "code",
   "execution_count": null,
   "id": "d0385ebc-2662-4090-8746-f7c72fe9918d",
   "metadata": {},
   "outputs": [],
   "source": [
    "np.sum(a1)"
   ]
  },
  {
   "cell_type": "code",
   "execution_count": null,
   "id": "3a3f6072-9d95-4354-8c9c-f8177b8396e0",
   "metadata": {},
   "outputs": [],
   "source": [
    "np.prod(a2)\n",
    "np.prod(a1)"
   ]
  },
  {
   "cell_type": "code",
   "execution_count": null,
   "id": "1cfe0973-721f-47e8-a5b8-6995690d425e",
   "metadata": {},
   "outputs": [],
   "source": [
    "a1"
   ]
  },
  {
   "cell_type": "code",
   "execution_count": null,
   "id": "061c8a3d-8054-419a-a86c-34458abc63ef",
   "metadata": {},
   "outputs": [],
   "source": [
    "np.max(a1,axis=1)"
   ]
  },
  {
   "cell_type": "code",
   "execution_count": null,
   "id": "459a405a-211b-4f0c-a08b-397ae8d7209b",
   "metadata": {},
   "outputs": [],
   "source": [
    "np.max(a1,axis=0)"
   ]
  },
  {
   "cell_type": "code",
   "execution_count": null,
   "id": "7969edf2-af5e-4aa5-8153-f662688fa581",
   "metadata": {},
   "outputs": [],
   "source": [
    "np.min(a1,axis=0)"
   ]
  },
  {
   "cell_type": "code",
   "execution_count": null,
   "id": "f0197fb8-1887-4639-9968-c5a45509b7fb",
   "metadata": {},
   "outputs": [],
   "source": [
    "np.min(a1,axis=1)"
   ]
  },
  {
   "cell_type": "code",
   "execution_count": null,
   "id": "b2a13007-84f1-4431-ac93-cda9aaa3f330",
   "metadata": {},
   "outputs": [],
   "source": [
    "np.sum(a1,axis=0)"
   ]
  },
  {
   "cell_type": "code",
   "execution_count": null,
   "id": "2b79aac6-0ca7-47df-b85d-5a431fa72db6",
   "metadata": {},
   "outputs": [],
   "source": [
    "np.sum(a1,axis=1)"
   ]
  },
  {
   "cell_type": "code",
   "execution_count": null,
   "id": "bd4d44c1-3040-4cad-b2e4-3aaac69610ad",
   "metadata": {},
   "outputs": [],
   "source": [
    "np.prod(a1,axis=0)"
   ]
  },
  {
   "cell_type": "code",
   "execution_count": null,
   "id": "bcc0a585-e566-4a6d-81c8-93e3833c5636",
   "metadata": {},
   "outputs": [],
   "source": [
    "np.prod(a1,axis=1)"
   ]
  },
  {
   "cell_type": "code",
   "execution_count": null,
   "id": "b5d1ed7f-970f-4af5-ae88-c5346dfb024d",
   "metadata": {},
   "outputs": [],
   "source": [
    "# mean/median/std/var\n",
    "a1"
   ]
  },
  {
   "cell_type": "code",
   "execution_count": null,
   "id": "c487cc5f-1d05-4a11-ba36-e613d9031be8",
   "metadata": {},
   "outputs": [],
   "source": [
    "np.mean(a1,axis=0)"
   ]
  },
  {
   "cell_type": "code",
   "execution_count": null,
   "id": "76ba4f4b-4813-40ea-88ee-93d0c33a69d6",
   "metadata": {},
   "outputs": [],
   "source": [
    "np.mean(a1,axis=1)"
   ]
  },
  {
   "cell_type": "code",
   "execution_count": null,
   "id": "1443817d-42fe-4008-a074-4ed32537e705",
   "metadata": {},
   "outputs": [],
   "source": [
    "np.median(a1,axis=0)"
   ]
  },
  {
   "cell_type": "code",
   "execution_count": null,
   "id": "7f500429-8056-4fc9-b3d1-7f2102786bf9",
   "metadata": {},
   "outputs": [],
   "source": [
    "np.median(a1,axis=1)"
   ]
  },
  {
   "cell_type": "code",
   "execution_count": null,
   "id": "9f6629da-7047-48fe-92d3-c180b5483eba",
   "metadata": {},
   "outputs": [],
   "source": [
    "np.std(a1,axis=0)"
   ]
  },
  {
   "cell_type": "code",
   "execution_count": null,
   "id": "fd5121b3-2b52-4254-8c04-4c42285d0e5c",
   "metadata": {},
   "outputs": [],
   "source": [
    "np.std(a1,axis=1)"
   ]
  },
  {
   "cell_type": "code",
   "execution_count": null,
   "id": "f8038ec6-46ea-49a3-8219-329cb9bb090e",
   "metadata": {},
   "outputs": [],
   "source": [
    "np.var(a1,axis=0)"
   ]
  },
  {
   "cell_type": "code",
   "execution_count": null,
   "id": "287db5f8-87ab-4faa-a355-32d9549b56fa",
   "metadata": {},
   "outputs": [],
   "source": [
    "np.var(a1,axis=1)"
   ]
  },
  {
   "cell_type": "code",
   "execution_count": 8,
   "id": "b7d07513-2faf-49ce-97ca-01b4c37a33b1",
   "metadata": {},
   "outputs": [],
   "source": [
    "# dot product\n",
    "a1 = np.arange(12).reshape(3,4)\n",
    "a2 = np.arange(12,24).reshape(4,3)"
   ]
  },
  {
   "attachments": {},
   "cell_type": "markdown",
   "id": "47cfac50-5af0-4891-bb91-db51984cf7d0",
   "metadata": {},
   "source": [
    "\n",
    "shape : 3, 4  :  4,  3\n",
    "       |   |_____|   |\n",
    "       |      |      |\n",
    "       |  must same  |\n",
    "       |_____________|\n",
    "              |\n",
    "          3*3(size)\n",
    "output will be ^"
   ]
  },
  {
   "attachments": {
    "e0724d6d-1268-4282-bc56-4c650f7b7130.png": {
     "image/png": "[encoded data removed]"
    }
   },
   "cell_type": "markdown",
   "id": "6a25df13-ccfa-4f75-97de-704f929ba573",
   "metadata": {},
   "source": [
    "![image.png](attachment:e0724d6d-1268-4282-bc56-4c650f7b7130.png)"
   ]
  },
  {
   "cell_type": "code",
   "execution_count": 9,
   "id": "37e83d48-0447-4a9a-89df-3a61be635b81",
   "metadata": {},
   "outputs": [
    {
     "name": "stdout",
     "output_type": "stream",
     "text": [
      "[[ 0  1  2  3]\n",
      " [ 4  5  6  7]\n",
      " [ 8  9 10 11]]\n",
      "**********\n",
      "[[12 13 14]\n",
      " [15 16 17]\n",
      " [18 19 20]\n",
      " [21 22 23]]\n"
     ]
    }
   ],
   "source": [
    "print(a1)\n",
    "print(\"*\"*10)\n",
    "print(a2)"
   ]
  },
  {
   "cell_type": "code",
   "execution_count": 10,
   "id": "de6ee7c7-2ef2-4c5a-9787-90341f54b484",
   "metadata": {},
   "outputs": [
    {
     "data": {
      "text/plain": [
       "array([[114, 120, 126],\n",
       "       [378, 400, 422],\n",
       "       [642, 680, 718]])"
      ]
     },
     "execution_count": 10,
     "metadata": {},
     "output_type": "execute_result"
    }
   ],
   "source": [
    "np.dot(a1,a2)"
   ]
  },
  {
   "cell_type": "code",
   "execution_count": null,
   "id": "9515d407-fd79-4b96-910c-501981a53215",
   "metadata": {},
   "outputs": [],
   "source": [
    "# log\n",
    "np.log(a2)"
   ]
  },
  {
   "cell_type": "code",
   "execution_count": null,
   "id": "aa0ccc58-8595-479f-9b8c-90870ee3c67f",
   "metadata": {},
   "outputs": [],
   "source": [
    "# exp\n",
    "np.exp(a2)"
   ]
  },
  {
   "cell_type": "code",
   "execution_count": null,
   "id": "64bf0819-ee5f-4b55-ac53-9688eb9838ee",
   "metadata": {},
   "outputs": [],
   "source": [
    "# round/floor/ceil\n",
    "np.random.random((2,3))*100"
   ]
  },
  {
   "cell_type": "code",
   "execution_count": null,
   "id": "39120759-bc05-4443-bb46-d0ba5eacda1c",
   "metadata": {},
   "outputs": [],
   "source": [
    "np.round(np.random.random((2,3))*100)"
   ]
  },
  {
   "cell_type": "code",
   "execution_count": null,
   "id": "7a47b9ec-a806-499c-abf8-33c2f0782db9",
   "metadata": {},
   "outputs": [],
   "source": [
    "np.floor(np.random.random((2,3))*100)"
   ]
  },
  {
   "cell_type": "code",
   "execution_count": null,
   "id": "6b6a9aa9-d292-4110-9323-49f4bd8c10f5",
   "metadata": {},
   "outputs": [],
   "source": [
    "np.ceil(np.random.random((2,3))*100)"
   ]
  },
  {
   "cell_type": "code",
   "execution_count": 7,
   "id": "a26dc80f-a887-4e2e-b800-32dcdbc22c38",
   "metadata": {},
   "outputs": [
    {
     "name": "stdout",
     "output_type": "stream",
     "text": [
      "[[ 0  1  2  3]\n",
      " [ 4  5  6  7]\n",
      " [ 8  9 10 11]]\n",
      "[[12 13 14]\n",
      " [15 16 17]\n",
      " [18 19 20]\n",
      " [21 22 23]]\n"
     ]
    }
   ],
   "source": [
    "print(a1)\n",
    "print(a2)"
   ]
  },
  {
   "cell_type": "code",
   "execution_count": 13,
   "id": "6f2fce9c-c32f-4109-b395-4a7ce0d19cd2",
   "metadata": {},
   "outputs": [
    {
     "name": "stdout",
     "output_type": "stream",
     "text": [
      "[[[0 1]\n",
      "  [2 3]]\n",
      "\n",
      " [[4 5]\n",
      "  [6 7]]]\n",
      "[[[ 0  1  2  3]\n",
      "  [ 4  5  6  7]]\n",
      "\n",
      " [[ 8  9 10 11]\n",
      "  [12 13 14 15]]\n",
      "\n",
      " [[16 17 18 19]\n",
      "  [20 21 22 23]]]\n"
     ]
    }
   ],
   "source": [
    "a = np.arange(8).reshape(2,2,2)\n",
    "b = np.arange(24).reshape(3,2,4)\n",
    "\n",
    "print(a)\n",
    "print(b)"
   ]
  },
  {
   "cell_type": "code",
   "execution_count": 15,
   "id": "3d2c160b-e056-4662-9c42-081d57a805d9",
   "metadata": {},
   "outputs": [
    {
     "name": "stdout",
     "output_type": "stream",
     "text": [
      "********************\n",
      "[[[[  4   5   6   7]\n",
      "   [ 12  13  14  15]\n",
      "   [ 20  21  22  23]]\n",
      "\n",
      "  [[ 12  17  22  27]\n",
      "   [ 52  57  62  67]\n",
      "   [ 92  97 102 107]]]\n",
      "\n",
      "\n",
      " [[[ 20  29  38  47]\n",
      "   [ 92 101 110 119]\n",
      "   [164 173 182 191]]\n",
      "\n",
      "  [[ 28  41  54  67]\n",
      "   [132 145 158 171]\n",
      "   [236 249 262 275]]]]\n"
     ]
    }
   ],
   "source": [
    "# print(np.matmul(a,b))\n",
    "print(\"*\"*20)\n",
    "print(np.dot(a,b))"
   ]
  },
  {
   "cell_type": "code",
   "execution_count": 6,
   "id": "0936f2bf-f420-4059-8808-7b162da16120",
   "metadata": {},
   "outputs": [
    {
     "name": "stdout",
     "output_type": "stream",
     "text": [
      "[[114 120 126]\n",
      " [378 400 422]\n",
      " [642 680 718]]\n",
      "[[114 120 126]\n",
      " [378 400 422]\n",
      " [642 680 718]]\n"
     ]
    }
   ],
   "source": [
    "print(np.matmul(a1,a2))\n",
    "print(np.dot(a1,a2))"
   ]
  },
  {
   "cell_type": "code",
   "execution_count": null,
   "id": "7bd9a9f7-a421-4c64-80d5-0db7f1a2a5a7",
   "metadata": {},
   "outputs": [],
   "source": []
  },
  {
   "cell_type": "code",
   "execution_count": null,
   "id": "a0861c32-bc2f-4c28-9d85-cef143d627cb",
   "metadata": {},
   "outputs": [],
   "source": [
    "# Indexing and slicing\n",
    "a1 = np.arange(10)\n",
    "a2 = np.arange(12).reshape(3,4)\n",
    "a3 = np.arange(8).reshape(2,2,2)"
   ]
  },
  {
   "cell_type": "code",
   "execution_count": null,
   "id": "699c2362-09ba-49fe-86ba-50b4ba2acddb",
   "metadata": {},
   "outputs": [],
   "source": [
    "print(a1)\n",
    "print(a2)\n",
    "print(a3)"
   ]
  },
  {
   "cell_type": "code",
   "execution_count": null,
   "id": "6e24098b-10a2-437a-a1ed-36c2051f5cc9",
   "metadata": {},
   "outputs": [],
   "source": [
    "a1[-1]"
   ]
  },
  {
   "cell_type": "code",
   "execution_count": null,
   "id": "04d4a6d5-31ff-4207-9d4a-b34ed756b321",
   "metadata": {},
   "outputs": [],
   "source": [
    "a1[0]"
   ]
  },
  {
   "cell_type": "code",
   "execution_count": null,
   "id": "f49310b4-5518-453b-bf0d-b776ea320909",
   "metadata": {},
   "outputs": [],
   "source": [
    "a2"
   ]
  },
  {
   "cell_type": "code",
   "execution_count": null,
   "id": "234534f1-fa7b-4058-be7a-70d97df2d8ce",
   "metadata": {},
   "outputs": [],
   "source": [
    "# find 6 in a2\n",
    "a2[1,2]"
   ]
  },
  {
   "cell_type": "code",
   "execution_count": null,
   "id": "3179d592-2997-4be5-8869-6de997a411a5",
   "metadata": {},
   "outputs": [],
   "source": [
    "# find 11 in a2\n",
    "a2[2,3]"
   ]
  },
  {
   "cell_type": "code",
   "execution_count": null,
   "id": "b082eed8-e824-4b7c-a498-0ec5ac5be551",
   "metadata": {},
   "outputs": [],
   "source": [
    "# find 4 in a2\n",
    "a2[1,0]"
   ]
  },
  {
   "cell_type": "code",
   "execution_count": null,
   "id": "c7fae964-ee35-43cf-b0e4-16f2d82553f1",
   "metadata": {},
   "outputs": [],
   "source": [
    "a3"
   ]
  },
  {
   "cell_type": "code",
   "execution_count": null,
   "id": "a576e28b-2135-4717-8096-d7ade508f961",
   "metadata": {},
   "outputs": [],
   "source": [
    "# find 5 in a3\n",
    "a3[1,0,1]"
   ]
  },
  {
   "cell_type": "code",
   "execution_count": null,
   "id": "0509d07a-8f0a-42ff-aa4d-877c68cb629d",
   "metadata": {},
   "outputs": [],
   "source": [
    "# find 2 in a3\n",
    "a3[0,1,0]"
   ]
  },
  {
   "cell_type": "code",
   "execution_count": null,
   "id": "eca1b840-b991-48d6-893b-b5832e7c9a5f",
   "metadata": {},
   "outputs": [],
   "source": [
    "# find 0 in a3\n",
    "a3[0,0,0]"
   ]
  },
  {
   "cell_type": "code",
   "execution_count": null,
   "id": "320716be-a284-48db-bde9-3389175f5e14",
   "metadata": {},
   "outputs": [],
   "source": [
    "# find 6 in a3\n",
    "a3[1,1,0]\n"
   ]
  },
  {
   "cell_type": "code",
   "execution_count": null,
   "id": "6ab72bd7-7286-442a-9594-c5687a036d8d",
   "metadata": {},
   "outputs": [],
   "source": [
    "# Slicing\n",
    "a1"
   ]
  },
  {
   "cell_type": "code",
   "execution_count": null,
   "id": "67285702-8976-49c7-bff2-0f6707d888be",
   "metadata": {},
   "outputs": [],
   "source": [
    "a1[2:5]"
   ]
  },
  {
   "cell_type": "code",
   "execution_count": null,
   "id": "8e5ba09b-584b-42d3-a9e4-5d07f88c623c",
   "metadata": {},
   "outputs": [],
   "source": [
    "a1[2:5:2]"
   ]
  },
  {
   "cell_type": "code",
   "execution_count": null,
   "id": "73a18f34-8a5e-4e75-8669-bc762adce1e3",
   "metadata": {},
   "outputs": [],
   "source": [
    "a2"
   ]
  },
  {
   "cell_type": "code",
   "execution_count": null,
   "id": "9721afb8-4432-4d61-a305-0c5fd2cc2108",
   "metadata": {},
   "outputs": [],
   "source": [
    "# first row in a2\n",
    "a2[0,:]"
   ]
  },
  {
   "cell_type": "code",
   "execution_count": null,
   "id": "d9043898-68aa-4bb8-b017-e1c4d79e7781",
   "metadata": {},
   "outputs": [],
   "source": [
    "# 3rd column in a2\n",
    "a2[:,2:3]"
   ]
  },
  {
   "cell_type": "code",
   "execution_count": null,
   "id": "8d14e829-18e3-4682-8a4b-232ebd5d5525",
   "metadata": {},
   "outputs": [],
   "source": [
    "# 3rd row in a2\n",
    "a2[2:3,:]"
   ]
  },
  {
   "cell_type": "code",
   "execution_count": null,
   "id": "ded6d496-d6d6-4552-9b44-228923da5035",
   "metadata": {},
   "outputs": [],
   "source": [
    "# get 5,6,8,9 from a2\n",
    "a2[1:,1:3]"
   ]
  },
  {
   "cell_type": "code",
   "execution_count": null,
   "id": "7422995a-3c25-4ca6-aa33-b7ce40ad9d29",
   "metadata": {},
   "outputs": [],
   "source": [
    "# get 0,3,8,11 from a2\n",
    "a2[::2,::3]"
   ]
  },
  {
   "cell_type": "code",
   "execution_count": null,
   "id": "10749b43-ccb9-4f40-947e-72ce4736b441",
   "metadata": {},
   "outputs": [],
   "source": [
    "# get 1,3,9,11 from a2\n",
    "a2[::2,1::2]"
   ]
  },
  {
   "cell_type": "code",
   "execution_count": null,
   "id": "3c3a27ea-dd6c-41d2-93b2-7ff72b27d940",
   "metadata": {},
   "outputs": [],
   "source": [
    "# get 4 and 7 from a2\n",
    "a2[1,::3]"
   ]
  },
  {
   "cell_type": "code",
   "execution_count": null,
   "id": "f7eb9a22-d80d-4893-8a48-fd885d49cdb6",
   "metadata": {},
   "outputs": [],
   "source": [
    "# get 1,2,3 and 5,6,7\n",
    "a2[0:2,1:]"
   ]
  },
  {
   "cell_type": "code",
   "execution_count": null,
   "id": "edbabba3-8808-4ff9-9565-99ecbdad65c8",
   "metadata": {},
   "outputs": [],
   "source": [
    "# get 1,3 and 5,7\n",
    "a2[0:2,1::2]"
   ]
  },
  {
   "cell_type": "code",
   "execution_count": null,
   "id": "1f4b0b4f-6fc5-4827-b55b-28d433836ada",
   "metadata": {},
   "outputs": [],
   "source": [
    "a3 = np.arange(27).reshape(3,3,3)\n",
    "a3"
   ]
  },
  {
   "cell_type": "code",
   "execution_count": null,
   "id": "59d3da47-8620-41db-bf91-856dc8b9ce69",
   "metadata": {},
   "outputs": [],
   "source": [
    "# get 2nd 2D array\n",
    "a3[::]\n",
    "a3[1]"
   ]
  },
  {
   "cell_type": "code",
   "execution_count": null,
   "id": "9c076620-c1be-40e9-a234-025d658634f6",
   "metadata": {},
   "outputs": [],
   "source": [
    "# get 1st and last 2d array\n",
    "a3[::2]"
   ]
  },
  {
   "cell_type": "code",
   "execution_count": null,
   "id": "3a63c259-5203-4b32-ac6d-19801c0d577f",
   "metadata": {},
   "outputs": [],
   "source": [
    "# 1st 2d arrays 2nd row\n",
    "a3[0,1]"
   ]
  },
  {
   "cell_type": "code",
   "execution_count": null,
   "id": "37a5cc76-d501-4b29-af6f-ce6e978ef1dd",
   "metadata": {},
   "outputs": [],
   "source": [
    "# 2nd array's middle column\n",
    "a3[1,:,1]"
   ]
  },
  {
   "cell_type": "code",
   "execution_count": null,
   "id": "2906e8b8-cabb-490d-b399-6c1274239769",
   "metadata": {},
   "outputs": [],
   "source": [
    "# get 32,23 and 25,26  from a\n",
    "a3[2,1:,1:]"
   ]
  },
  {
   "cell_type": "code",
   "execution_count": null,
   "id": "a5d0b92f-a9ed-44fd-bc5e-bda7d77d85f9",
   "metadata": {},
   "outputs": [],
   "source": [
    "# get 0,2 and 18,20 from a3\n",
    "\n",
    "a3[::2,0,::2]"
   ]
  },
  {
   "cell_type": "code",
   "execution_count": null,
   "id": "e69c2366-7758-421c-8ace-ef41c1f9a01a",
   "metadata": {},
   "outputs": [],
   "source": [
    "# Itterating over numpy array\n",
    "a1 = np.arange(0,12)\n",
    "for i in a1:\n",
    "    print(i)"
   ]
  },
  {
   "cell_type": "code",
   "execution_count": null,
   "id": "a0de3b91-f67d-47ca-8422-bf9499f44bab",
   "metadata": {},
   "outputs": [],
   "source": [
    "a2\n",
    "for i in a2:\n",
    "    print(i)"
   ]
  },
  {
   "cell_type": "code",
   "execution_count": null,
   "id": "5b1fd57a-9b05-44ef-b91e-cfcc8f7d92db",
   "metadata": {},
   "outputs": [],
   "source": [
    "for i in np.nditer(a3):\n",
    "    print(i)"
   ]
  },
  {
   "cell_type": "code",
   "execution_count": null,
   "id": "dddde905-57d2-4114-ac9b-5ee5d543a314",
   "metadata": {},
   "outputs": [],
   "source": [
    "a3 \n",
    "for i in np.nditer(a3):\n",
    "    print(i)"
   ]
  },
  {
   "cell_type": "code",
   "execution_count": null,
   "id": "cbfb0e2c-405d-4cd1-8997-6b3c7fc19f59",
   "metadata": {},
   "outputs": [],
   "source": [
    "# Reshaping\n",
    "# 1. reshape\n"
   ]
  },
  {
   "cell_type": "code",
   "execution_count": null,
   "id": "03b17b01-538f-465c-a3ae-cb0f5cc1bc49",
   "metadata": {},
   "outputs": [],
   "source": [
    "a2"
   ]
  },
  {
   "cell_type": "code",
   "execution_count": null,
   "id": "18c9e3ff-efb6-49fa-b2ed-46d42cd5dbad",
   "metadata": {},
   "outputs": [],
   "source": [
    "# 2. transpose\n",
    "np.transpose(a2)\n",
    "a2.T"
   ]
  },
  {
   "cell_type": "code",
   "execution_count": null,
   "id": "906692a2-8260-4749-bea6-21279d4279f6",
   "metadata": {},
   "outputs": [],
   "source": [
    "# 3. ravel\n",
    "np.ravel(a2)"
   ]
  },
  {
   "cell_type": "code",
   "execution_count": null,
   "id": "f9ffec18-c05c-4d16-962c-983cbf9ef3b0",
   "metadata": {},
   "outputs": [],
   "source": [
    "a3"
   ]
  },
  {
   "cell_type": "code",
   "execution_count": null,
   "id": "7e1eb1ba-6d64-480f-b879-a24cdc0d9c92",
   "metadata": {},
   "outputs": [],
   "source": [
    "np.ravel(a3)"
   ]
  },
  {
   "cell_type": "code",
   "execution_count": null,
   "id": "6a3c21a0-3dbd-45ec-a2b7-0729f59ec842",
   "metadata": {},
   "outputs": [],
   "source": [
    "# stacking(adding np arrays) :- Shape must be same\n",
    "a4 = np.arange(12).reshape(3,4)\n",
    "a5 = np.arange(12,24).reshape(3,4)"
   ]
  },
  {
   "cell_type": "code",
   "execution_count": null,
   "id": "84e68695-a445-4bb3-9c72-3316b2af65d3",
   "metadata": {},
   "outputs": [],
   "source": [
    "# horizontal stacking\n",
    "np.hstack((a4,a5))"
   ]
  },
  {
   "cell_type": "code",
   "execution_count": null,
   "id": "ad275eab-4d45-47ee-af78-4612cc807cb6",
   "metadata": {},
   "outputs": [],
   "source": [
    "# vertical stacking\n",
    "np.vstack((a4,a5))"
   ]
  },
  {
   "cell_type": "code",
   "execution_count": null,
   "id": "5ed36aaf-1e15-4dc6-8066-a472aac196b8",
   "metadata": {},
   "outputs": [],
   "source": [
    "# Splitting(dividing np arrays):- split must be equal division\n",
    "np.hsplit(a4,2)"
   ]
  },
  {
   "cell_type": "code",
   "execution_count": null,
   "id": "4783e0f2-ae16-496a-831d-fbac0a93ff25",
   "metadata": {},
   "outputs": [],
   "source": [
    "np.vsplit(a5,3)"
   ]
  },
  {
   "cell_type": "code",
   "execution_count": null,
   "id": "7304c793-db2c-449b-9ce9-db01f1408fb6",
   "metadata": {},
   "outputs": [],
   "source": [
    "# --------------"
   ]
  },
  {
   "cell_type": "code",
   "execution_count": null,
   "id": "e72d2da9-6a21-4302-9027-9fd408d34f7d",
   "metadata": {},
   "outputs": [],
   "source": [
    "# Masking"
   ]
  },
  {
   "cell_type": "code",
   "execution_count": null,
   "id": "b8c0f90b-1351-4b4e-a911-3f6c33af9dc3",
   "metadata": {
    "scrolled": true
   },
   "outputs": [],
   "source": [
    "data = np.array([1, 2, 3, 4, 5, 6, 7, 8, 9, 10])\n",
    "mask = data > 5  # Create a boolean mask where elements > 5 are True\n",
    "\n",
    "# Extract elements satisfying the mask\n",
    "filtered_data = data[mask] \n",
    "print(f\"Filtered data: {filtered_data}\") \n",
    "\n",
    "# Modify elements satisfying the mask\n",
    "data[mask] = 0\n",
    "print(f\"Modified data: {data}\")"
   ]
  },
  {
   "cell_type": "code",
   "execution_count": null,
   "id": "c849b66e-85c9-4f98-9149-9083c48538fe",
   "metadata": {},
   "outputs": [],
   "source": [
    "# Boolean indexing (filtering with conditions)\n",
    "a2%2==0"
   ]
  },
  {
   "cell_type": "code",
   "execution_count": null,
   "id": "18a4258f-81b0-4523-a27d-947001fe8471",
   "metadata": {},
   "outputs": [],
   "source": [
    "a2-2==0"
   ]
  },
  {
   "cell_type": "code",
   "execution_count": null,
   "id": "53c16849-18e8-4a4a-bad7-bb1706c88400",
   "metadata": {},
   "outputs": [],
   "source": [
    "a2*10>0"
   ]
  },
  {
   "cell_type": "code",
   "execution_count": null,
   "id": "76afa06e-d452-4abc-8db3-739a1c995cad",
   "metadata": {},
   "outputs": [],
   "source": [
    "a1\n",
    "a11 = np.arange(6,18)\n",
    "a1\n",
    "a11"
   ]
  },
  {
   "cell_type": "code",
   "execution_count": null,
   "id": "c064e4bb-9920-4df6-b240-62f334d63b6e",
   "metadata": {},
   "outputs": [],
   "source": [
    "a2"
   ]
  },
  {
   "cell_type": "code",
   "execution_count": null,
   "id": "9acb9fd1-81ab-468c-968a-0930c12a50a1",
   "metadata": {},
   "outputs": [],
   "source": []
  },
  {
   "cell_type": "code",
   "execution_count": null,
   "id": "5ada3d89-8e60-44fa-ac1e-8422ce53d2b7",
   "metadata": {},
   "outputs": [],
   "source": [
    "a11 | a1 == 1"
   ]
  },
  {
   "cell_type": "code",
   "execution_count": null,
   "id": "75a15279-b976-46ca-87fd-8494faed19c1",
   "metadata": {},
   "outputs": [],
   "source": [
    "a11 & a1 == 0"
   ]
  },
  {
   "cell_type": "code",
   "execution_count": null,
   "id": "92b635d9-251f-459e-9bde-9e444d79af96",
   "metadata": {},
   "outputs": [],
   "source": []
  },
  {
   "cell_type": "code",
   "execution_count": null,
   "id": "a8af7c48-4134-4ce5-b8e4-b2a9b2dbbb4c",
   "metadata": {},
   "outputs": [],
   "source": [
    "a = \n",
    "a = np.random.rand(3,3)\n",
    "print(a)\n",
    "a>0.1"
   ]
  },
  {
   "cell_type": "code",
   "execution_count": null,
   "id": "2d99f421-9b35-4d6a-ae5b-69bdfffea16e",
   "metadata": {},
   "outputs": [],
   "source": [
    "a = np.random.randint(1,100,9)\n",
    "b = a.reshape(3,3)\n",
    "print(b)\n",
    "print(b%2==0)\n",
    "mask = b%2==0\n",
    "np.dtype(mask)\n",
    "\n",
    "# b[mask] == 1"
   ]
  },
  {
   "cell_type": "code",
   "execution_count": null,
   "id": "fab9942e-edb3-425e-ac94-e5751c5149fb",
   "metadata": {},
   "outputs": [],
   "source": [
    "mask.ndim"
   ]
  },
  {
   "cell_type": "code",
   "execution_count": 145,
   "id": "98b6a48f-b173-4e80-9461-79e9d0314ad0",
   "metadata": {},
   "outputs": [
    {
     "name": "stdout",
     "output_type": "stream",
     "text": [
      "2\n",
      "[[ 9 97 83]\n",
      " [55 55 30]\n",
      " [61 73 50]]\n"
     ]
    },
    {
     "data": {
      "text/plain": [
       "array([30, 50])"
      ]
     },
     "execution_count": 145,
     "metadata": {},
     "output_type": "execute_result"
    }
   ],
   "source": [
    "a = np.random.randint(1,100,9)\n",
    "b = a.reshape(3,3)\n",
    "# print(b)\n",
    "# b%2==0\n",
    "mask = b%2==0\n",
    "print(mask.ndim)\n",
    "print(b)\n",
    "b[mask]"
   ]
  },
  {
   "cell_type": "code",
   "execution_count": 150,
   "id": "a1333736-19be-4613-9d33-22f10fce0e63",
   "metadata": {},
   "outputs": [],
   "source": [
    "import numpy.ma as ma"
   ]
  },
  {
   "cell_type": "code",
   "execution_count": 152,
   "id": "58d6ea40-5845-45e5-9a55-b85adeb356f6",
   "metadata": {},
   "outputs": [
    {
     "data": {
      "text/plain": [
       "masked_array(data=[1, --, 3],\n",
       "             mask=[False,  True, False],\n",
       "       fill_value=999999)"
      ]
     },
     "execution_count": 152,
     "metadata": {},
     "output_type": "execute_result"
    }
   ],
   "source": [
    "mask = [0,1,0]\n",
    "x = ma.array([1,2,3],mask=mask)\n",
    "x"
   ]
  },
  {
   "cell_type": "code",
   "execution_count": 154,
   "id": "d5a9dedf-fca5-485a-b4ef-db2804c27653",
   "metadata": {},
   "outputs": [],
   "source": [
    "a = np.random.randint(1,100,9)\n",
    "b = a.reshape(3,3)\n",
    "# print(b)\n",
    "# b%2==0"
   ]
  },
  {
   "cell_type": "code",
   "execution_count": 156,
   "id": "9f03e47a-48d2-40db-b7e4-6804e7fb5b4f",
   "metadata": {},
   "outputs": [
    {
     "ename": "NameError",
     "evalue": "name 'array' is not defined",
     "output_type": "error",
     "traceback": [
      "\u001b[0;31m---------------------------------------------------------------------------\u001b[0m",
      "\u001b[0;31mNameError\u001b[0m                                 Traceback (most recent call last)",
      "Cell \u001b[0;32mIn[156], line 2\u001b[0m\n\u001b[1;32m      1\u001b[0m \u001b[38;5;28;01mimport\u001b[39;00m\u001b[38;5;250m \u001b[39m\u001b[38;5;21;01mnumpy\u001b[39;00m\u001b[38;5;250m \u001b[39m\u001b[38;5;28;01mas\u001b[39;00m\u001b[38;5;250m \u001b[39m\u001b[38;5;21;01mnp\u001b[39;00m\n\u001b[0;32m----> 2\u001b[0m x \u001b[38;5;241m=\u001b[39m array([[\u001b[38;5;241m1\u001b[39m,\u001b[38;5;241m2\u001b[39m],[\u001b[38;5;241m2\u001b[39m,\u001b[38;5;241m3\u001b[39m],[\u001b[38;5;241m3\u001b[39m,\u001b[38;5;241m4\u001b[39m]])\n\u001b[1;32m      3\u001b[0m mask \u001b[38;5;241m=\u001b[39m [\u001b[38;5;28;01mFalse\u001b[39;00m,\u001b[38;5;28;01mFalse\u001b[39;00m,\u001b[38;5;28;01mTrue\u001b[39;00m]\n\u001b[1;32m      4\u001b[0m x[\u001b[38;5;241m~\u001b[39mnp\u001b[38;5;241m.\u001b[39marray(mask)]\n",
      "\u001b[0;31mNameError\u001b[0m: name 'array' is not defined"
     ]
    }
   ],
   "source": [
    "import numpy as np\n",
    "x = array([[1,2],[2,3],[3,4]])\n",
    "mask = [False,False,True]\n",
    "x[~np.array(mask)]"
   ]
  },
  {
   "cell_type": "code",
   "execution_count": 40,
   "id": "78c7649e-d9ce-4630-9c81-5ffa77e7fcb8",
   "metadata": {},
   "outputs": [
    {
     "ename": "NameError",
     "evalue": "name 'array' is not defined",
     "output_type": "error",
     "traceback": [
      "\u001b[0;31m---------------------------------------------------------------------------\u001b[0m",
      "\u001b[0;31mNameError\u001b[0m                                 Traceback (most recent call last)",
      "Cell \u001b[0;32mIn[40], line 1\u001b[0m\n\u001b[0;32m----> 1\u001b[0m x \u001b[38;5;241m=\u001b[39m array([[\u001b[38;5;241m1\u001b[39m,\u001b[38;5;241m2\u001b[39m],[\u001b[38;5;241m2\u001b[39m,\u001b[38;5;241m3\u001b[39m],[\u001b[38;5;241m3\u001b[39m,\u001b[38;5;241m4\u001b[39m]])\n\u001b[1;32m      2\u001b[0m x_maskd \u001b[38;5;241m=\u001b[39m np\u001b[38;5;241m.\u001b[39mwhere(mask, x, \u001b[38;5;241m0\u001b[39m)\n",
      "\u001b[0;31mNameError\u001b[0m: name 'array' is not defined"
     ]
    }
   ],
   "source": [
    "x = array([[1,2],[2,3],[3,4]])\n",
    "x_maskd = np.where(mask, x, 0)"
   ]
  },
  {
   "cell_type": "code",
   "execution_count": null,
   "id": "146cbf75-d537-4810-9124-9c623a659248",
   "metadata": {},
   "outputs": [],
   "source": []
  }
 ],
 "metadata": {
  "kernelspec": {
   "display_name": "Python [conda env:base] *",
   "language": "python",
   "name": "conda-base-py"
  },
  "language_info": {
   "codemirror_mode": {
    "name": "ipython",
    "version": 3
   },
   "file_extension": ".py",
   "mimetype": "text/x-python",
   "name": "python",
   "nbconvert_exporter": "python",
   "pygments_lexer": "ipython3",
   "version": "3.13.5"
  }
 },
 "nbformat": 4,
 "nbformat_minor": 5
}
